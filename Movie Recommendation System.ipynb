{
 "cells": [
  {
   "cell_type": "code",
   "execution_count": 48,
   "id": "d3ad76f6",
   "metadata": {},
   "outputs": [
    {
     "data": {
      "application/vnd.jupyter.widget-view+json": {
       "model_id": "1f87dcb24c7f40bda0bfc53429032e90",
       "version_major": 2,
       "version_minor": 0
      },
      "text/plain": [
       "Dropdown(description='Genre:', options=('Adventure', 'Animation', 'Children', 'Comedy', 'Fantasy', 'Romance', …"
      ]
     },
     "metadata": {},
     "output_type": "display_data"
    },
    {
     "data": {
      "application/vnd.jupyter.widget-view+json": {
       "model_id": "04f2d5cfdc9f49f88070e21e6c736f15",
       "version_major": 2,
       "version_minor": 0
      },
      "text/plain": [
       "FloatSlider(value=10.0, continuous_update=False, description='Threshold:', max=500.0, min=1.0, readout_format=…"
      ]
     },
     "metadata": {},
     "output_type": "display_data"
    },
    {
     "data": {
      "application/vnd.jupyter.widget-view+json": {
       "model_id": "30aa6c7c6faa40d982ade380368c533b",
       "version_major": 2,
       "version_minor": 0
      },
      "text/plain": [
       "IntSlider(value=5, continuous_update=False, description='Top N:', max=20, min=1)"
      ]
     },
     "metadata": {},
     "output_type": "display_data"
    },
    {
     "data": {
      "application/vnd.jupyter.widget-view+json": {
       "model_id": "2b34b52080b04dddae8f3a7e5d4b6e9b",
       "version_major": 2,
       "version_minor": 0
      },
      "text/plain": [
       "Output()"
      ]
     },
     "metadata": {},
     "output_type": "display_data"
    }
   ],
   "source": [
    "# Step 1: Import libraries and load dataset\n",
    "import pandas as pd\n",
    "import numpy as np\n",
    "from sklearn.feature_extraction.text import TfidfVectorizer\n",
    "from sklearn.metrics.pairwise import linear_kernel\n",
    "import ipywidgets as widgets\n",
    "from IPython.display import display\n",
    "from collections import defaultdict\n",
    "\n",
    "# Load the data\n",
    "movies = pd.read_csv('Movies.csv')\n",
    "ratings = pd.read_csv('Ratings.csv')\n",
    "\n",
    "# Step 2: Exploratory Data Analysis\n",
    "\n",
    "# Understanding the distribution of features\n",
    "ratings.describe()\n",
    "\n",
    "# Finding unique users and movies\n",
    "unique_users = ratings['userId'].nunique()\n",
    "unique_movies = movies['movieId'].nunique()\n",
    "\n",
    "# Average rating and Total movies at genre level\n",
    "movie_genre_ratings = pd.merge(ratings, movies, on='movieId')\n",
    "genre_avg_ratings = movie_genre_ratings.groupby('genres')['rating'].mean()\n",
    "total_movies_by_genre = movie_genre_ratings['genres'].value_counts()\n",
    "\n",
    "# Unique genres considered\n",
    "unique_genres = movies['genres'].str.split('|', expand=True).stack().unique()\n",
    "\n",
    "# Step 3: Design recommendation modules\n",
    "\n",
    "# Popularity-based recommender system\n",
    "def popularity_recommender(genre, threshold, N):\n",
    "    genre_ratings = movie_genre_ratings[movie_genre_ratings['genres'].str.contains(genre)]\n",
    "    genre_ratings_count = genre_ratings.groupby('movieId')['rating'].count()\n",
    "    popular_movies = genre_ratings_count[genre_ratings_count >= threshold].index.tolist()\n",
    "    sorted_movies = genre_ratings[genre_ratings['movieId'].isin(popular_movies)].sort_values(by='rating', ascending=False)\n",
    "    top_N_movies = sorted_movies.head(N)\n",
    "    return top_N_movies\n",
    "\n",
    "# Content-based recommender system\n",
    "tfidf_vectorizer = TfidfVectorizer()\n",
    "tfidf_matrix = tfidf_vectorizer.fit_transform(movies['genres'])\n",
    "\n",
    "def content_based_recommender(movie_title, N):\n",
    "    movie_idx = movies[movies['title'] == movie_title].index[0]\n",
    "    cosine_sim = linear_kernel(tfidf_matrix, tfidf_matrix)\n",
    "    similar_movies_indices = cosine_sim[movie_idx].argsort()[::-1]\n",
    "    similar_movies_indices = similar_movies_indices[1:N+1]\n",
    "    recommended_movies = movies['title'].iloc[similar_movies_indices].tolist()\n",
    "    return recommended_movies\n",
    "\n",
    "# Collaborative-based recommender system\n",
    "def collaborative_recommender(user_id, k, N):\n",
    "    user_ratings = ratings[ratings['userId'] == user_id]\n",
    "    similar_users = defaultdict(int)\n",
    "    \n",
    "    for movie_id, rating in zip(user_ratings['movieId'], user_ratings['rating']):\n",
    "        similar_users.update(dict(movie_genre_ratings[movie_genre_ratings['movieId'] == movie_id].groupby('userId')['rating'].sum()))\n",
    "    \n",
    "    similar_users = {k: v for k, v in sorted(similar_users.items(), key=lambda item: item[1], reverse=True)}\n",
    "    similar_users = list(similar_users.keys())[:k]\n",
    "    \n",
    "    recommended_movies = []\n",
    "    \n",
    "    for similar_user in similar_users:\n",
    "        movies_rated_by_similar_user = ratings[ratings['userId'] == similar_user]\n",
    "        for movie_id in movies_rated_by_similar_user['movieId']:\n",
    "            if movie_id not in user_ratings['movieId'].tolist():\n",
    "                recommended_movies.append(movie_id)\n",
    "                if len(recommended_movies) == N:\n",
    "                    return movies['title'][movies['movieId'].isin(recommended_movies)].tolist()\n",
    "    \n",
    "    return []\n",
    "\n",
    "# Step 4: Create a GUI interface\n",
    "\n",
    "genre_dropdown = widgets.Dropdown(\n",
    "    options=unique_genres,\n",
    "    description='Genre:',\n",
    "    disabled=False,\n",
    ")\n",
    "\n",
    "threshold_slider = widgets.FloatSlider(\n",
    "    value=10,\n",
    "    min=1,\n",
    "    max=500,\n",
    "    step=1,\n",
    "    description='Threshold:',\n",
    "    disabled=False,\n",
    "    continuous_update=False,\n",
    "    orientation='horizontal',\n",
    "    readout=True,\n",
    "    readout_format='d'\n",
    ")\n",
    "\n",
    "N_slider = widgets.IntSlider(\n",
    "    value=5,\n",
    "    min=1,\n",
    "    max=20,\n",
    "    step=1,\n",
    "    description='Top N:',\n",
    "    disabled=False,\n",
    "    continuous_update=False,\n",
    "    orientation='horizontal',\n",
    "    readout=True,\n",
    "    readout_format='d'\n",
    ")\n",
    "\n",
    "recommendation_output = widgets.Output()\n",
    "\n",
    "def generate_recommendations(change):\n",
    "    with recommendation_output:\n",
    "        recommendation_output.clear_output()\n",
    "        genre = genre_dropdown.value\n",
    "        threshold = threshold_slider.value\n",
    "        N = N_slider.value\n",
    "        \n",
    "        recommended_movies = popularity_recommender(genre, threshold, N)\n",
    "        print(\"Popularity-based Recommendations:\")\n",
    "        for idx, row in recommended_movies.iterrows():\n",
    "            print(row['title'])\n",
    "        \n",
    "        recommended_movies = content_based_recommender(movies['title'].iloc[0], N)  # Change the movie title as needed\n",
    "        print(\"\\nContent-based Recommendations:\")\n",
    "        for movie in recommended_movies:\n",
    "            print(movie)\n",
    "        \n",
    "        user_id = 1  # Change the user ID as needed\n",
    "        recommended_movies = collaborative_recommender(user_id, k=5, N=N)\n",
    "        print(\"\\nCollaborative-based Recommendations:\")\n",
    "        for movie in recommended_movies:\n",
    "            print(movie)\n",
    "\n",
    "genre_dropdown.observe(generate_recommendations, names='value')\n",
    "threshold_slider.observe(generate_recommendations, names='value')\n",
    "N_slider.observe(generate_recommendations, names='value')\n",
    "\n",
    "display(genre_dropdown, threshold_slider, N_slider, recommendation_output)"
   ]
  }
 ],
 "metadata": {
  "kernelspec": {
   "display_name": "Python 3 (ipykernel)",
   "language": "python",
   "name": "python3"
  },
  "language_info": {
   "codemirror_mode": {
    "name": "ipython",
    "version": 3
   },
   "file_extension": ".py",
   "mimetype": "text/x-python",
   "name": "python",
   "nbconvert_exporter": "python",
   "pygments_lexer": "ipython3",
   "version": "3.9.13"
  }
 },
 "nbformat": 4,
 "nbformat_minor": 5
}
